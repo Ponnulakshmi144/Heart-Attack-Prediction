{
  "nbformat": 4,
  "nbformat_minor": 0,
  "metadata": {
    "colab": {
      "provenance": []
    },
    "kernelspec": {
      "name": "python3",
      "display_name": "Python 3"
    },
    "language_info": {
      "name": "python"
    }
  },
  "cells": [
    {
      "cell_type": "markdown",
      "source": [
        "**APPENDIX**"
      ],
      "metadata": {
        "id": "2U3YzS3dFA5T"
      }
    },
    {
      "cell_type": "markdown",
      "source": [
        "**IMPORTING LIBRARIES**"
      ],
      "metadata": {
        "id": "KUi7vn3WFJq9"
      }
    },
    {
      "cell_type": "code",
      "execution_count": null,
      "metadata": {
        "id": "ojOOLYG4Nom3"
      },
      "outputs": [],
      "source": [
        "import numpy as np\n",
        "import matplotlib.pyplot as plt\n",
        "import pandas as pd\n",
        "import seaborn as sns"
      ]
    },
    {
      "cell_type": "markdown",
      "source": [
        "**DATA COLLECTION AND PROCESSING**"
      ],
      "metadata": {
        "id": "2JVALOULFYqp"
      }
    },
    {
      "cell_type": "code",
      "source": [
        "data=pd.read_csv('/content/Heart_attack_prediction_.csv')"
      ],
      "metadata": {
        "id": "h7I5ZaS-N4z0"
      },
      "execution_count": null,
      "outputs": []
    },
    {
      "cell_type": "code",
      "source": [
        "data"
      ],
      "metadata": {
        "id": "ZR-oJpTKN-C5",
        "collapsed": true
      },
      "execution_count": null,
      "outputs": []
    },
    {
      "cell_type": "code",
      "source": [
        "data.info()"
      ],
      "metadata": {
        "id": "WUEt4ZnE_A2H"
      },
      "execution_count": null,
      "outputs": []
    },
    {
      "cell_type": "code",
      "source": [
        "data.describe()"
      ],
      "metadata": {
        "id": "0jzCjoTu_HEW"
      },
      "execution_count": null,
      "outputs": []
    },
    {
      "cell_type": "code",
      "source": [
        "data.head()"
      ],
      "metadata": {
        "id": "Ue2nNthx_Jw5"
      },
      "execution_count": null,
      "outputs": []
    },
    {
      "cell_type": "code",
      "source": [
        "data.isna().sum()"
      ],
      "metadata": {
        "id": "nVX1L9tqN-0l"
      },
      "execution_count": null,
      "outputs": []
    },
    {
      "cell_type": "markdown",
      "source": [
        "**DATA VISUALISATION**"
      ],
      "metadata": {
        "id": "nzEb9NQJ_e8Q"
      }
    },
    {
      "cell_type": "code",
      "source": [
        "##histogram"
      ],
      "metadata": {
        "id": "Iylr6cY1yoS_"
      },
      "execution_count": null,
      "outputs": []
    },
    {
      "cell_type": "code",
      "source": [
        "def plot_age_histogram(data):\n",
        "    plt.figure(figsize=(8, 5))\n",
        "    sns.histplot(data['age'].dropna(), bins=30, kde=True, color='skyblue')\n",
        "    plt.title('Age Distribution of Patients')\n",
        "    plt.xlabel('Age')\n",
        "    plt.ylabel('Number of Patients')\n",
        "    plt.grid(True, linestyle='--', alpha=0.5)\n",
        "    plt.tight_layout()\n",
        "    plt.show()"
      ],
      "metadata": {
        "id": "q22M7qkB551M"
      },
      "execution_count": null,
      "outputs": []
    },
    {
      "cell_type": "code",
      "source": [
        "plot_age_histogram(data)"
      ],
      "metadata": {
        "id": "-cD8glLvyoQF"
      },
      "execution_count": null,
      "outputs": []
    },
    {
      "cell_type": "code",
      "source": [
        "def plot_cholesterol_level_histogram(data):\n",
        "    plt.figure(figsize=(8, 5))\n",
        "    sns.histplot(data['cholesterol_level'].dropna(), bins=30, kde=True, color='skyblue')\n",
        "    plt.title('cholesterol_level Distribution of Patients')\n",
        "    plt.xlabel('cholesterol_level')\n",
        "    plt.ylabel('Frequency')\n",
        "    plt.grid(True, linestyle='--', alpha=0.5)\n",
        "    plt.tight_layout()\n",
        "    plt.show()"
      ],
      "metadata": {
        "id": "qXVRLB5ZyoKW"
      },
      "execution_count": null,
      "outputs": []
    },
    {
      "cell_type": "code",
      "source": [
        "plot_cholesterol_level_histogram(data)"
      ],
      "metadata": {
        "id": "uILR_DtoyoHd"
      },
      "execution_count": null,
      "outputs": []
    },
    {
      "cell_type": "code",
      "source": [
        "def plot_fasting_blood_sugar_histogram(data):\n",
        "    plt.figure(figsize=(8, 5))\n",
        "    sns.histplot(data['fasting_blood_sugar'].dropna(), bins=30, kde=True, color='skyblue')\n",
        "    plt.title('fasting_blood_sugar Distribution of Patients')\n",
        "    plt.xlabel('fasting_blood_sugar')\n",
        "    plt.ylabel('Frequency')\n",
        "    plt.grid(True, linestyle='--', alpha=0.5)\n",
        "    plt.tight_layout()\n",
        "    plt.show()"
      ],
      "metadata": {
        "id": "70TrUnpaA1LN"
      },
      "execution_count": null,
      "outputs": []
    },
    {
      "cell_type": "code",
      "source": [
        "plot_fasting_blood_sugar_histogram(data)"
      ],
      "metadata": {
        "id": "pCnbBnxhA1Ij"
      },
      "execution_count": null,
      "outputs": []
    },
    {
      "cell_type": "code",
      "source": [
        "#pie chart"
      ],
      "metadata": {
        "id": "_4Pc8VE6A1DI"
      },
      "execution_count": null,
      "outputs": []
    },
    {
      "cell_type": "code",
      "source": [
        "heart_attack_gender = data[data['heart_attack'] == 'Yes']['gender'].value_counts()\n",
        "plt.figure(figsize=(5, 5))\n",
        "heart_attack_gender.plot.pie(\n",
        "    autopct='%1.1f%%',\n",
        "    startangle=90,\n",
        "    labels=heart_attack_gender.index,\n",
        "    colors=['#87CEEB', '#FFB6C1']\n",
        ")\n",
        "plt.title('Gender Distribution Among Heart Attack Patients')\n",
        "plt.ylabel('')\n",
        "plt.tight_layout()\n",
        "plt.show()"
      ],
      "metadata": {
        "id": "3sd6uuMvTO4W"
      },
      "execution_count": null,
      "outputs": []
    },
    {
      "cell_type": "code",
      "source": [
        "heart_attack_df = data[data['heart_attack'] == 'Yes']\n",
        "\n",
        "# Count the frequency of each stress level among heart attack patients\n",
        "physical_activity_counts = heart_attack_df['physical_activity'].value_counts()\n",
        "\n",
        "# Plot the pie chart\n",
        "plt.figure(figsize=(6, 6))\n",
        "physical_activity_counts.plot.pie(\n",
        "    autopct='%1.1f%%',\n",
        "    startangle=90,\n",
        "    labels=physical_activity_counts.index,\n",
        "    colors=sns.color_palette('Pastel1'),\n",
        "    wedgeprops={'edgecolor': 'black'}\n",
        ")\n",
        "plt.title('physical_activity_Level Distribution Among Heart Attack Patients')\n",
        "plt.ylabel('')\n",
        "plt.tight_layout()\n",
        "plt.show()"
      ],
      "metadata": {
        "id": "4dFczismbThR"
      },
      "execution_count": null,
      "outputs": []
    },
    {
      "cell_type": "code",
      "source": [
        "#boxplot"
      ],
      "metadata": {
        "id": "vkw7nzVmbTbE"
      },
      "execution_count": null,
      "outputs": []
    },
    {
      "cell_type": "code",
      "source": [
        "sns.boxplot(data=data, x='heart_attack', y='age', palette='pastel')\n",
        "plt.title('Age Distribution by Heart Attack Status')\n",
        "plt.xlabel('Heart Attack')\n",
        "plt.ylabel('Age')\n",
        "plt.show()"
      ],
      "metadata": {
        "id": "r8G9ThSnbTNl"
      },
      "execution_count": null,
      "outputs": []
    },
    {
      "cell_type": "code",
      "source": [
        "sns.boxplot(data)\n",
        "plt.xticks(rotation=90)\n",
        "plt.show()"
      ],
      "metadata": {
        "id": "WPPxDepTDBQs"
      },
      "execution_count": null,
      "outputs": []
    },
    {
      "cell_type": "code",
      "source": [
        "#countplot"
      ],
      "metadata": {
        "id": "6VB4P8VzeaLu"
      },
      "execution_count": null,
      "outputs": []
    },
    {
      "cell_type": "code",
      "source": [
        "sns.countplot(data=data, x='hypertension', hue='heart_attack', palette='viridis')\n",
        "plt.title('Hypertension vs Heart Attack')\n",
        "plt.xlabel('Hypertension')\n",
        "plt.ylabel('Count')\n",
        "plt.grid(linestyle=':',color='red')\n",
        "plt.tight_layout()\n",
        "plt.show()"
      ],
      "metadata": {
        "id": "X3dr7YYseaIU"
      },
      "execution_count": null,
      "outputs": []
    },
    {
      "cell_type": "code",
      "source": [
        "sns.countplot(data=data, x='previous_heart_disease', hue='heart_attack', palette='viridis')\n",
        "plt.title('previous_heart_disease vs heart_attack')\n",
        "plt.xlabel('previous_heart_disease')\n",
        "plt.ylabel('Count')\n",
        "plt.grid(linestyle=':',color='red')\n",
        "plt.tight_layout()\n",
        "plt.show()"
      ],
      "metadata": {
        "id": "ztjg03PRuw1O"
      },
      "execution_count": null,
      "outputs": []
    },
    {
      "cell_type": "code",
      "source": [
        "#donut chart"
      ],
      "metadata": {
        "id": "Pt2KfvJIi_RY"
      },
      "execution_count": null,
      "outputs": []
    },
    {
      "cell_type": "code",
      "source": [
        "diabetic_df = data[data['diabetes'] == 'Yes']\n",
        "\n",
        "# Count heart attack outcomes among diabetics\n",
        "diabetic_heart_attack_counts = diabetic_df['heart_attack'].value_counts()\n",
        "\n",
        "# Plotting the donut chart\n",
        "fig, ax = plt.subplots(figsize=(6, 6))\n",
        "wedges, texts, autotexts = ax.pie(\n",
        "    diabetic_heart_attack_counts,\n",
        "    labels=diabetic_heart_attack_counts.index,\n",
        "    autopct='%1.1f%%',\n",
        "    startangle=90,\n",
        "    wedgeprops=dict(width=0.4)\n",
        ")\n",
        "ax.set_title('Heart Attack Distribution Among Diabetic Individuals')\n",
        "plt.show()"
      ],
      "metadata": {
        "id": "aNAbZ3kJeaDT"
      },
      "execution_count": null,
      "outputs": []
    },
    {
      "cell_type": "markdown",
      "source": [
        "**PRE PROCESSING**"
      ],
      "metadata": {
        "id": "eoMTFRd7FyLG"
      }
    },
    {
      "cell_type": "markdown",
      "source": [
        "**HANDLING MISSING VALUES(using normal levels)**"
      ],
      "metadata": {
        "id": "5y9xW9H-F86q"
      }
    },
    {
      "cell_type": "code",
      "source": [
        "## Handle missing values (fill with normal levels)"
      ],
      "metadata": {
        "id": "MSYentFPF2p3"
      },
      "execution_count": null,
      "outputs": []
    },
    {
      "cell_type": "code",
      "source": [
        "normal_values ={\n",
        "    'fasting_blood_sugar': 90,\n",
        "    'cholesterol_ldl':100\n",
        "}\n",
        "data.fillna(normal_values,inplace=True)"
      ],
      "metadata": {
        "id": "gARx9CoZGD4T"
      },
      "execution_count": null,
      "outputs": []
    },
    {
      "cell_type": "code",
      "source": [
        "data.isna.sum()"
      ],
      "metadata": {
        "id": "EY5KJeVOGIrS"
      },
      "execution_count": null,
      "outputs": []
    },
    {
      "cell_type": "markdown",
      "source": [
        "**DROPPING UNIMPORTANT FEATURES**"
      ],
      "metadata": {
        "id": "B3gxWPeqACIz"
      }
    },
    {
      "cell_type": "code",
      "source": [
        "data=data.drop(columns=[\"region\",\"income_level\",\"waist_circumference\",\"family_history\",\"participated_in_free_screening\"])"
      ],
      "metadata": {
        "id": "2O2o5gh8OY_U"
      },
      "execution_count": null,
      "outputs": []
    },
    {
      "cell_type": "code",
      "source": [
        "data"
      ],
      "metadata": {
        "id": "roXZxL8pOdUx"
      },
      "execution_count": null,
      "outputs": []
    },
    {
      "cell_type": "markdown",
      "source": [
        "**ENCODING**"
      ],
      "metadata": {
        "id": "zvKV7JNDASuj"
      }
    },
    {
      "cell_type": "markdown",
      "source": [
        "**LABEL ENCODING(BINARY COLUMNS)**"
      ],
      "metadata": {
        "id": "WwGF-h-AAdtK"
      }
    },
    {
      "cell_type": "code",
      "source": [
        "from sklearn.preprocessing import LabelEncoder\n",
        "binary_cols = ['diabetes','hypertension','obesity','dietary_habits','EKG_results','previous_heart_disease','medication_usage']\n",
        "le = LabelEncoder()\n",
        "\n",
        "for col in binary_cols:\n",
        "    data[col] = le.fit_transform(data[col])"
      ],
      "metadata": {
        "id": "GeQarcmaWj5h"
      },
      "execution_count": null,
      "outputs": []
    },
    {
      "cell_type": "code",
      "source": [
        "data"
      ],
      "metadata": {
        "id": "Y8Fhb2wyTp7G"
      },
      "execution_count": null,
      "outputs": []
    },
    {
      "cell_type": "code",
      "source": [
        "data['heart_attack']=data['heart_attack'].map({'No':0,'Yes':1})"
      ],
      "metadata": {
        "id": "8N5ZNZPKaxep"
      },
      "execution_count": null,
      "outputs": []
    },
    {
      "cell_type": "code",
      "source": [
        "data['gender']=data['gender'].map({'Male':0,'Female':1})"
      ],
      "metadata": {
        "id": "mNu6w_uWG9GP"
      },
      "execution_count": null,
      "outputs": []
    },
    {
      "cell_type": "markdown",
      "source": [
        "**ORDINAL ENCODING(FOR ORDERED COLUMNS)**"
      ],
      "metadata": {
        "id": "wLWZQXOfAuXI"
      }
    },
    {
      "cell_type": "code",
      "source": [
        "from sklearn.preprocessing import OrdinalEncoder"
      ],
      "metadata": {
        "id": "ybnH11ibWZY3"
      },
      "execution_count": null,
      "outputs": []
    },
    {
      "cell_type": "code",
      "source": [
        "ordinal_cols = {\"smoking_status\": [\"Never\", \"Past\", \"Current\"],\n",
        "    \"alcohol_consumption\": [\"No\", \"Moderate\", \"High\"],\n",
        "    \"physical_activity\": [\"Low\", \"Moderate\", \"High\"],\n",
        "    \"air_pollution_exposure\": [\"Low\", \"Moderate\", \"High\"],\n",
        "    \"stress_level\": [\"Low\", \"Moderate\", \"High\"]}\n",
        "\n",
        "for col, order in ordinal_cols.items():\n",
        "    oe = OrdinalEncoder(categories=[order])\n",
        "    data[col] = oe.fit_transform(data[[col]])"
      ],
      "metadata": {
        "id": "rboQ0i6OZzzX"
      },
      "execution_count": null,
      "outputs": []
    },
    {
      "cell_type": "code",
      "source": [
        "data"
      ],
      "metadata": {
        "id": "nUMl_tgaZ6LS"
      },
      "execution_count": null,
      "outputs": []
    },
    {
      "cell_type": "markdown",
      "source": [
        "**SCALING**"
      ],
      "metadata": {
        "id": "CEjZkDmpBY6H"
      }
    },
    {
      "cell_type": "code",
      "source": [
        "from sklearn.preprocessing import RobustScaler\n",
        "\n",
        "num_cols = ['sleep_hours','age','cholesterol_level','blood_pressure_diastolic','fasting_blood_sugar','blood_pressure_systolic','cholesterol_hdl','cholesterol_ldl','triglycerides']\n",
        "# Apply Robust Scaling\n",
        "scaler = RobustScaler()\n",
        "data= data.copy()\n",
        "data[num_cols] = scaler.fit_transform(data[num_cols])\n",
        "\n",
        "# Show results\n",
        "print(data.head())"
      ],
      "metadata": {
        "id": "0CYkiy43Z7IM"
      },
      "execution_count": null,
      "outputs": []
    },
    {
      "cell_type": "markdown",
      "source": [
        "**BALANCED OR NOT?**"
      ],
      "metadata": {
        "id": "TVmus4dcBhEy"
      }
    },
    {
      "cell_type": "code",
      "source": [
        "total_samples = len(data)\n",
        "class_percentages = data['heart_attack'].value_counts(normalize=True) * 100\n",
        "print(class_percentages)"
      ],
      "metadata": {
        "id": "sR5otz3XaQCP"
      },
      "execution_count": null,
      "outputs": []
    },
    {
      "cell_type": "code",
      "source": [
        "##Fairly balanced"
      ],
      "metadata": {
        "id": "vwWyfehuBuNp"
      },
      "execution_count": null,
      "outputs": []
    },
    {
      "cell_type": "code",
      "source": [
        "x= data.drop(columns=[\"heart_attack\"])\n",
        "y = data[\"heart_attack\"]"
      ],
      "metadata": {
        "id": "aPLk4ioHbn0U"
      },
      "execution_count": null,
      "outputs": []
    },
    {
      "cell_type": "markdown",
      "source": [
        "**SPLITTING THE DATASET**"
      ],
      "metadata": {
        "id": "tfZb2rutB-Ry"
      }
    },
    {
      "cell_type": "code",
      "source": [
        "from sklearn.model_selection import train_test_split\n",
        "x_train, x_test, y_train, y_test = train_test_split(x,y, test_size=0.2, random_state=42)"
      ],
      "metadata": {
        "id": "6lUL9y5wcEGc"
      },
      "execution_count": null,
      "outputs": []
    },
    {
      "cell_type": "markdown",
      "source": [
        "**MODELLING**"
      ],
      "metadata": {
        "id": "gQAeHvLIEL5E"
      }
    },
    {
      "cell_type": "markdown",
      "source": [
        "**LOGISTIC REGRESSION**"
      ],
      "metadata": {
        "id": "sfcivWMOCC61"
      }
    },
    {
      "cell_type": "code",
      "source": [
        "from sklearn.linear_model import LogisticRegression\n",
        "lr = LogisticRegression()\n",
        "lr.fit(x_train,y_train)\n",
        "y_pred= lr.predict(x_test)"
      ],
      "metadata": {
        "id": "wJXbqJo9cKcE"
      },
      "execution_count": null,
      "outputs": []
    },
    {
      "cell_type": "code",
      "source": [
        "y_pred"
      ],
      "metadata": {
        "id": "6MQbPq68cOM0"
      },
      "execution_count": null,
      "outputs": []
    },
    {
      "cell_type": "code",
      "source": [
        "from sklearn.metrics import accuracy_score,confusion_matrix,classification_report,ConfusionMatrixDisplay\n",
        "print('confusion_matrix=',confusion_matrix(y_test,y_pred))\n",
        "print('Accuracy=',accuracy_score(y_test,y_pred))"
      ],
      "metadata": {
        "id": "OU09dDNGcT_l"
      },
      "execution_count": null,
      "outputs": []
    },
    {
      "cell_type": "code",
      "source": [
        "disp=ConfusionMatrixDisplay(confusion_matrix(y_test,y_pred))\n",
        "disp.plot()\n",
        "plt.show()"
      ],
      "metadata": {
        "id": "unIDJ0vMK_dT"
      },
      "execution_count": null,
      "outputs": []
    },
    {
      "cell_type": "markdown",
      "source": [
        "**DECISION TREE CLASSIFIER**"
      ],
      "metadata": {
        "id": "bmecx0ieCLBE"
      }
    },
    {
      "cell_type": "code",
      "source": [
        "from sklearn.tree import DecisionTreeClassifier\n",
        "model1=DecisionTreeClassifier(max_depth=10, min_samples_split=20, min_samples_leaf=20, random_state=42, class_weight='balanced',criterion='entropy')\n",
        "model1.fit(x_train,y_train)"
      ],
      "metadata": {
        "id": "IgLDFBhRcYIY"
      },
      "execution_count": null,
      "outputs": []
    },
    {
      "cell_type": "code",
      "source": [
        "y_pred_1  = model1.predict(x_test)\n",
        "y_pred_1"
      ],
      "metadata": {
        "id": "YKkm1wZEcgom"
      },
      "execution_count": null,
      "outputs": []
    },
    {
      "cell_type": "code",
      "source": [
        "from sklearn.metrics import accuracy_score,ConfusionMatrixDisplay\n",
        "print('confusion_matrix=',confusion_matrix(y_test,y_pred_1))\n",
        "accuracy_score(y_test,y_pred_1)"
      ],
      "metadata": {
        "id": "-dFwhCE_cnGp"
      },
      "execution_count": null,
      "outputs": []
    },
    {
      "cell_type": "code",
      "source": [
        "disp=ConfusionMatrixDisplay(confusion_matrix(y_test,y_pred_1))\n",
        "disp.plot()\n",
        "plt.show()"
      ],
      "metadata": {
        "id": "w718JQMEML4j"
      },
      "execution_count": null,
      "outputs": []
    },
    {
      "cell_type": "markdown",
      "source": [
        "**RANDOM FOREST CLASSIFIER**"
      ],
      "metadata": {
        "id": "BFAX1DH2CUzQ"
      }
    },
    {
      "cell_type": "code",
      "source": [
        "from sklearn.ensemble import RandomForestClassifier\n",
        "model2=RandomForestClassifier()\n",
        "model2.fit(x_train,y_train)"
      ],
      "metadata": {
        "id": "-ouQanejcrKu"
      },
      "execution_count": null,
      "outputs": []
    },
    {
      "cell_type": "code",
      "source": [
        "param_grid = {\n",
        "    'n_estimators': [100, 200, 300,400,500],\n",
        "    'max_depth': [None,5,10,15],\n",
        "    'min_samples_split': [2, 5, 10],\n",
        "    'min_samples_leaf': [1, 2, 4],\n",
        "    'max_features': [None, 'sqrt', 'log2']\n",
        "}"
      ],
      "metadata": {
        "id": "JfYmhEAoo7yv"
      },
      "execution_count": null,
      "outputs": []
    },
    {
      "cell_type": "code",
      "source": [
        "y_pred2=model2.predict(x_test)\n",
        "y_pred2"
      ],
      "metadata": {
        "id": "aybx5gNQc9KD"
      },
      "execution_count": null,
      "outputs": []
    },
    {
      "cell_type": "code",
      "source": [
        "from sklearn.metrics import accuracy_score,ConfusionMatrixDisplay\n",
        "print('confusion_matrix=',confusion_matrix(y_test,y_pred2))\n",
        "print(\"Accuracy Score:\", accuracy_score(y_test, y_pred2))\n"
      ],
      "metadata": {
        "id": "BqEblLUBdcvW"
      },
      "execution_count": null,
      "outputs": []
    },
    {
      "cell_type": "code",
      "source": [
        "disp=ConfusionMatrixDisplay(confusion_matrix(y_test,y_pred2))\n",
        "disp.plot()\n",
        "plt.show()"
      ],
      "metadata": {
        "id": "KX0Wu1tDM2kn"
      },
      "execution_count": null,
      "outputs": []
    },
    {
      "cell_type": "markdown",
      "source": [
        "**XG BOOST**"
      ],
      "metadata": {
        "id": "f_YvyUkGCdmG"
      }
    },
    {
      "cell_type": "code",
      "source": [
        "import xgboost as xgb\n",
        "xgb_model = xgb.XGBClassifier(n_estimators=500, learning_rate=0.05, max_depth=10)\n",
        "xgb_model.fit(x_train,y_train)"
      ],
      "metadata": {
        "id": "HaddpDrqdiee"
      },
      "execution_count": null,
      "outputs": []
    },
    {
      "cell_type": "code",
      "source": [
        "y_pred3 = xgb_model.predict(x_test)\n",
        "y_pred3"
      ],
      "metadata": {
        "id": "5_gsFOufdnJX"
      },
      "execution_count": null,
      "outputs": []
    },
    {
      "cell_type": "code",
      "source": [
        "from sklearn.metrics import accuracy_score,ConfusionMatrixDisplay\n",
        "print('confusion_matrix=',confusion_matrix(y_test,y_pred3))\n",
        "print(\"Accuracy:\", accuracy_score(y_test, y_pred3))"
      ],
      "metadata": {
        "id": "uVE1kvIZdxve"
      },
      "execution_count": null,
      "outputs": []
    },
    {
      "cell_type": "code",
      "source": [
        "disp=ConfusionMatrixDisplay(confusion_matrix(y_test,y_pred3))\n",
        "disp.plot()\n",
        "plt.show()"
      ],
      "metadata": {
        "id": "52jihUNTNgcz"
      },
      "execution_count": null,
      "outputs": []
    },
    {
      "cell_type": "markdown",
      "source": [
        "**CAT BOOST**"
      ],
      "metadata": {
        "id": "PYEwp8-LClIO"
      }
    },
    {
      "cell_type": "code",
      "source": [
        "!pip install catboost"
      ],
      "metadata": {
        "id": "rOy5D5Qv5VHL"
      },
      "execution_count": null,
      "outputs": []
    },
    {
      "cell_type": "code",
      "source": [
        "from catboost import CatBoostClassifier"
      ],
      "metadata": {
        "id": "Nbi4aDoTd1nQ"
      },
      "execution_count": null,
      "outputs": []
    },
    {
      "cell_type": "code",
      "source": [
        "model4 = CatBoostClassifier(iterations=500, depth=6, learning_rate=0.1, loss_function='Logloss', verbose=100)"
      ],
      "metadata": {
        "id": "0wzG7D2M6Tox"
      },
      "execution_count": null,
      "outputs": []
    },
    {
      "cell_type": "code",
      "source": [
        "model4.fit(x_train,y_train)"
      ],
      "metadata": {
        "id": "xtpdQ6Iy6q9z"
      },
      "execution_count": null,
      "outputs": []
    },
    {
      "cell_type": "code",
      "source": [
        "y_pred4 =model4.predict(x_test)\n",
        "y_pred4"
      ],
      "metadata": {
        "id": "3mam44LN7CSM"
      },
      "execution_count": null,
      "outputs": []
    },
    {
      "cell_type": "code",
      "source": [
        "from sklearn.metrics import accuracy_score,ConfusionMatrixDisplay\n",
        "print('confusion_matrix=',confusion_matrix(y_test,y_pred4))\n",
        "print(\"Accuracy:\", accuracy_score(y_test, y_pred4))"
      ],
      "metadata": {
        "id": "C5Pj3Ix-7Sjl"
      },
      "execution_count": null,
      "outputs": []
    },
    {
      "cell_type": "code",
      "source": [
        "disp=ConfusionMatrixDisplay(confusion_matrix(y_test,y_pred4))\n",
        "disp.plot()\n",
        "plt.show()"
      ],
      "metadata": {
        "id": "gbSYPe37OHQ1"
      },
      "execution_count": null,
      "outputs": []
    },
    {
      "cell_type": "markdown",
      "source": [
        "**COMPARING ACCURACY OF DIFFERENT MODELS**"
      ],
      "metadata": {
        "id": "oUlwKV4sXT9O"
      }
    },
    {
      "cell_type": "code",
      "source": [
        "alg=['LogisticRegression','DecisionTree','RandomForest','XGBoost','CatBoost']\n",
        "acc=[accuracy_log,accuracy_dec,accuracy_ran,accuracy_xg,accuracy_cat]\n",
        "Accuracy_scores['Accuracy']=Accuracy_scores['Accuracy']*100\n",
        "Accuracy_Scores"
      ],
      "metadata": {
        "id": "OOOFlk9pXZNL"
      },
      "execution_count": null,
      "outputs": []
    },
    {
      "cell_type": "markdown",
      "source": [
        "**PREDICTION**"
      ],
      "metadata": {
        "id": "kV8aE6edEvKi"
      }
    },
    {
      "cell_type": "code",
      "source": [
        "import pickle\n",
        "# Save the model\n",
        "with open(\"model4.pkl\", \"wb\") as file:\n",
        "    pickle.dump(model4,file)\n",
        "model4"
      ],
      "metadata": {
        "id": "dIP7r1YC9CCi"
      },
      "execution_count": null,
      "outputs": []
    },
    {
      "cell_type": "code",
      "source": [
        "sample_input = x.iloc[[158353]]\n",
        "prediction = model4.predict(sample_input)\n",
        "print(prediction)"
      ],
      "metadata": {
        "id": "FBRZ7jxDkDpw"
      },
      "execution_count": null,
      "outputs": []
    },
    {
      "cell_type": "code",
      "source": [
        "sample_input = x.iloc[[1]]\n",
        "prediction = model4.predict(sample_input)\n",
        "print(prediction)"
      ],
      "metadata": {
        "id": "Up9Z8m-5kD3w"
      },
      "execution_count": null,
      "outputs": []
    }
  ]
}